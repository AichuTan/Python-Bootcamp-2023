{
  "nbformat": 4,
  "nbformat_minor": 0,
  "metadata": {
    "colab": {
      "provenance": []
    },
    "kernelspec": {
      "name": "python3",
      "display_name": "Python 3"
    },
    "language_info": {
      "name": "python"
    }
  },
  "cells": [
    {
      "cell_type": "code",
      "execution_count": 5,
      "metadata": {
        "colab": {
          "base_uri": "https://localhost:8080/"
        },
        "id": "fw8H4akgYVtG",
        "outputId": "85996f5e-15cd-4cf4-b47b-ce2f025b6d75"
      },
      "outputs": [
        {
          "output_type": "execute_result",
          "data": {
            "text/plain": [
              "[2, 3, 4]"
            ]
          },
          "metadata": {},
          "execution_count": 5
        }
      ],
      "source": [
        "numbers = [1,2,3]\n",
        "new_list = []\n",
        "for n in numbers:\n",
        "  add_1 = n+1\n",
        "  new_list.append(add_1)\n",
        "\n",
        "new_list"
      ]
    },
    {
      "cell_type": "markdown",
      "source": [
        "List Comprehension\n",
        "\n",
        "new_list = [new_item for item in list ]\n",
        "\n",
        "List comprehension can be used in python sequences, such as list, range, tuple, string"
      ],
      "metadata": {
        "id": "a8Lhh5cPZRyX"
      }
    },
    {
      "cell_type": "code",
      "source": [
        "new_list2 = [n+1 for n in numbers]\n",
        "new_list2"
      ],
      "metadata": {
        "colab": {
          "base_uri": "https://localhost:8080/"
        },
        "id": "-PlUwASyZZJ0",
        "outputId": "e21d6c10-4af4-481c-974e-6175532345ec"
      },
      "execution_count": 7,
      "outputs": [
        {
          "output_type": "execute_result",
          "data": {
            "text/plain": [
              "[2, 3, 4]"
            ]
          },
          "metadata": {},
          "execution_count": 7
        }
      ]
    },
    {
      "cell_type": "code",
      "source": [
        "name = \"Angela\"\n",
        "new_list = [ letter for letter in name]\n",
        "new_list"
      ],
      "metadata": {
        "colab": {
          "base_uri": "https://localhost:8080/"
        },
        "id": "w4lmVdGca0C-",
        "outputId": "b0f25db9-61d7-4935-c27a-87492a1d3bed"
      },
      "execution_count": 9,
      "outputs": [
        {
          "output_type": "execute_result",
          "data": {
            "text/plain": [
              "['A', 'n', 'g', 'e', 'l', 'a']"
            ]
          },
          "metadata": {},
          "execution_count": 9
        }
      ]
    },
    {
      "cell_type": "code",
      "source": [
        "range(1,5) # create a list with list comprehension where are double the value in the range\n",
        "new_list = [ 2*n for n in range(1,5)]\n",
        "new_list"
      ],
      "metadata": {
        "colab": {
          "base_uri": "https://localhost:8080/"
        },
        "id": "sxSfAC6HcetS",
        "outputId": "27a7eea1-4816-4340-c1ac-630da8c242eb"
      },
      "execution_count": 11,
      "outputs": [
        {
          "output_type": "execute_result",
          "data": {
            "text/plain": [
              "[2, 4, 6, 8]"
            ]
          },
          "metadata": {},
          "execution_count": 11
        }
      ]
    },
    {
      "cell_type": "markdown",
      "source": [
        "Conditional list comprehension\n",
        "\n",
        "new_list = [new_item for item in list if pass this test]"
      ],
      "metadata": {
        "id": "SuY4kFzLdHxK"
      }
    },
    {
      "cell_type": "code",
      "source": [
        "names = [\"Alex\", \"Beth\", \"Caroline\", \"Dave\", \"Eleanor\", \"Freddie\"]\n",
        "#create a list that filter only name with 4 letter\n",
        "short_name = [ name for name in names if len(name) <=4]\n",
        "short_name"
      ],
      "metadata": {
        "colab": {
          "base_uri": "https://localhost:8080/"
        },
        "id": "6ZfOy1d5dRRD",
        "outputId": "550781b6-3a42-4c9d-90ed-0de61c360b8b"
      },
      "execution_count": 12,
      "outputs": [
        {
          "output_type": "execute_result",
          "data": {
            "text/plain": [
              "['Alex', 'Beth', 'Dave']"
            ]
          },
          "metadata": {},
          "execution_count": 12
        }
      ]
    },
    {
      "cell_type": "code",
      "source": [
        "#create a list that filter name which letter > 5 then change to all character to upper case\n",
        "uppercase_name = [name.upper() for name in names if len(name)> 5]\n",
        "uppercase_name"
      ],
      "metadata": {
        "colab": {
          "base_uri": "https://localhost:8080/"
        },
        "id": "dTkXI_45eok4",
        "outputId": "0e8393d9-668a-457c-b496-99c511b2dd92"
      },
      "execution_count": 15,
      "outputs": [
        {
          "output_type": "execute_result",
          "data": {
            "text/plain": [
              "['CAROLINE', 'ELEANOR', 'FREDDIE']"
            ]
          },
          "metadata": {},
          "execution_count": 15
        }
      ]
    },
    {
      "cell_type": "code",
      "source": [
        "list_of_strings = ['9', '0', '32', '8', '2', '8', '64', '29', '42', '99']\n",
        "numbers = [int(n) for n in list_of_strings]\n",
        "result = [n for n in numbers if n%2 == 0]\n",
        "print(result)"
      ],
      "metadata": {
        "colab": {
          "base_uri": "https://localhost:8080/"
        },
        "id": "fB_EFNxLSson",
        "outputId": "35aeb376-ec06-4839-efbe-e4a671942929"
      },
      "execution_count": 4,
      "outputs": [
        {
          "output_type": "stream",
          "name": "stdout",
          "text": [
            "[0, 32, 8, 2, 8, 64, 42]\n"
          ]
        }
      ]
    },
    {
      "cell_type": "code",
      "source": [
        "list1 = []"
      ],
      "metadata": {
        "id": "JUbCY1BvdmKr"
      },
      "execution_count": null,
      "outputs": []
    },
    {
      "cell_type": "markdown",
      "source": [
        "Dictionary Comprehension\n",
        "\n",
        "new_dict = {new_key:new_value **for** item **in** list}\n",
        "\n",
        "new_dict = {new_key:new_value **for** (key,value)item **in** dict.items()}"
      ],
      "metadata": {
        "id": "vBcRepX3rw2i"
      }
    },
    {
      "cell_type": "code",
      "source": [
        "names = [\"Alex\", \"Beth\", \"Caroline\", \"Dave\", \"Eleanor\", \"Freddie\"]\n",
        "#create a dictionary students_scores from the names list with random score\n",
        "import random\n",
        "students_scores = {student:random.randint(1,100) for student in names}\n",
        "students_scores"
      ],
      "metadata": {
        "colab": {
          "base_uri": "https://localhost:8080/"
        },
        "id": "zwEukZ2gsJXb",
        "outputId": "fec54d31-62c0-4146-e6a0-f0a46c5525b7"
      },
      "execution_count": 11,
      "outputs": [
        {
          "output_type": "execute_result",
          "data": {
            "text/plain": [
              "{'Alex': 98,\n",
              " 'Beth': 81,\n",
              " 'Caroline': 1,\n",
              " 'Dave': 89,\n",
              " 'Eleanor': 12,\n",
              " 'Freddie': 28}"
            ]
          },
          "metadata": {},
          "execution_count": 11
        }
      ]
    },
    {
      "cell_type": "code",
      "source": [
        "passed_students = {student:score for (student, score) in students_scores.items() if score > 60}\n",
        "passed_students"
      ],
      "metadata": {
        "colab": {
          "base_uri": "https://localhost:8080/"
        },
        "id": "9nwoPhXngRlM",
        "outputId": "c84dd7db-89fd-4363-880b-5435be305678"
      },
      "execution_count": 12,
      "outputs": [
        {
          "output_type": "execute_result",
          "data": {
            "text/plain": [
              "{'Alex': 98, 'Beth': 81, 'Dave': 89}"
            ]
          },
          "metadata": {},
          "execution_count": 12
        }
      ]
    },
    {
      "cell_type": "code",
      "source": [
        "#create result dictionatry that takes each word in the given sentence and calculates the number of letters in each word.\n",
        "sentence = \"What is the Airspeed Velocity of an Unladen Swallow?\"\n",
        "result = {word:len(word) for word in list(sentence.split())}\n",
        "result"
      ],
      "metadata": {
        "colab": {
          "base_uri": "https://localhost:8080/"
        },
        "id": "PWjSw74TjHR6",
        "outputId": "822bdc7f-8a5c-4ac9-b0a8-ad8614ce9dfe"
      },
      "execution_count": 16,
      "outputs": [
        {
          "output_type": "execute_result",
          "data": {
            "text/plain": [
              "{'What': 4,\n",
              " 'is': 2,\n",
              " 'the': 3,\n",
              " 'Airspeed': 8,\n",
              " 'Velocity': 8,\n",
              " 'of': 2,\n",
              " 'an': 2,\n",
              " 'Unladen': 7,\n",
              " 'Swallow?': 8}"
            ]
          },
          "metadata": {},
          "execution_count": 16
        }
      ]
    },
    {
      "cell_type": "code",
      "source": [
        "#create a dictionary called weather_f that takes each temperature in degrees Celsius and converts it into degrees Fahrenheit\n",
        "weather_c = {\"Monday\": 12, \"Tuesday\": 14, \"Wednesday\": 15, \"Thursday\": 14, \"Friday\": 21, \"Saturday\": 22, \"Sunday\": 24}\n",
        "\n",
        "weather_f = {day: (t*9/5 + 32) for (day,t) in weather_c.items()}\n",
        "weather_f\n"
      ],
      "metadata": {
        "colab": {
          "base_uri": "https://localhost:8080/"
        },
        "id": "pe0RehLZkLEY",
        "outputId": "f09d5c37-8ea4-4479-e63d-cdbf55273828"
      },
      "execution_count": 18,
      "outputs": [
        {
          "output_type": "execute_result",
          "data": {
            "text/plain": [
              "{'Monday': 53.6,\n",
              " 'Tuesday': 57.2,\n",
              " 'Wednesday': 59.0,\n",
              " 'Thursday': 57.2,\n",
              " 'Friday': 69.8,\n",
              " 'Saturday': 71.6,\n",
              " 'Sunday': 75.2}"
            ]
          },
          "metadata": {},
          "execution_count": 18
        }
      ]
    },
    {
      "cell_type": "code",
      "source": [
        "student_dict ={\n",
        "    \"student\": [\"Angela\", \"James\", \"Lily\"],\n",
        "    \"score\": [56, 76, 98]\n",
        "}\n",
        "student_dict"
      ],
      "metadata": {
        "colab": {
          "base_uri": "https://localhost:8080/"
        },
        "id": "lZWvW0WRmaS2",
        "outputId": "ec182c5a-44b9-4be7-e626-1e633dbf3fb1"
      },
      "execution_count": 20,
      "outputs": [
        {
          "output_type": "execute_result",
          "data": {
            "text/plain": [
              "{'student': ['Angela', 'James', 'Lily'], 'score': [56, 76, 98]}"
            ]
          },
          "metadata": {},
          "execution_count": 20
        }
      ]
    },
    {
      "cell_type": "code",
      "source": [
        "#Looping through dictionaries\n",
        "for (key,value) in student_dict.items():\n",
        "  print(value)"
      ],
      "metadata": {
        "colab": {
          "base_uri": "https://localhost:8080/"
        },
        "id": "oraf-nZLmwLL",
        "outputId": "0cbe941e-4931-4e6a-e724-0c529ba876cc"
      },
      "execution_count": 23,
      "outputs": [
        {
          "output_type": "stream",
          "name": "stdout",
          "text": [
            "['Angela', 'James', 'Lily']\n",
            "[56, 76, 98]\n"
          ]
        }
      ]
    },
    {
      "cell_type": "code",
      "source": [
        "import pandas\n",
        "student_data_frame = pandas.DataFrame(student_dict)\n",
        "\n",
        "print(student_data_frame)"
      ],
      "metadata": {
        "colab": {
          "base_uri": "https://localhost:8080/"
        },
        "id": "LWOgsC9_nJRL",
        "outputId": "f7b3e194-9e77-4e2c-909e-f8aaa390dd45"
      },
      "execution_count": 27,
      "outputs": [
        {
          "output_type": "stream",
          "name": "stdout",
          "text": [
            "  student  score\n",
            "0  Angela     56\n",
            "1   James     76\n",
            "2    Lily     98\n"
          ]
        }
      ]
    },
    {
      "cell_type": "code",
      "source": [
        "#Loop through a data frame\n",
        "for (key,value) in student_data_frame.items():\n",
        "  print(value)"
      ],
      "metadata": {
        "colab": {
          "base_uri": "https://localhost:8080/"
        },
        "id": "Krkef2H-o-cv",
        "outputId": "2e57f58d-2e91-43b2-b96b-13b2cbab6d22"
      },
      "execution_count": 28,
      "outputs": [
        {
          "output_type": "stream",
          "name": "stdout",
          "text": [
            "0    Angela\n",
            "1     James\n",
            "2      Lily\n",
            "Name: student, dtype: object\n",
            "0    56\n",
            "1    76\n",
            "2    98\n",
            "Name: score, dtype: int64\n"
          ]
        }
      ]
    },
    {
      "cell_type": "code",
      "source": [
        "#Loop through rows of a data frame\n",
        "for (index, row) in student_data_frame.iterrows():\n",
        "  print(index)\n"
      ],
      "metadata": {
        "colab": {
          "base_uri": "https://localhost:8080/"
        },
        "id": "Hc2peRSPqAEm",
        "outputId": "1e08a04c-718e-435e-8b24-84a1e511b854"
      },
      "execution_count": 31,
      "outputs": [
        {
          "output_type": "stream",
          "name": "stdout",
          "text": [
            "0\n",
            "1\n",
            "2\n"
          ]
        }
      ]
    },
    {
      "cell_type": "code",
      "source": [
        "for (index, row) in student_data_frame.iterrows():\n",
        "  print(row)"
      ],
      "metadata": {
        "colab": {
          "base_uri": "https://localhost:8080/"
        },
        "id": "BD9Rb5M4qU_7",
        "outputId": "7796cb17-7cfb-4a7a-8e4e-a1002c4e02aa"
      },
      "execution_count": 32,
      "outputs": [
        {
          "output_type": "stream",
          "name": "stdout",
          "text": [
            "student    Angela\n",
            "score          56\n",
            "Name: 0, dtype: object\n",
            "student    James\n",
            "score         76\n",
            "Name: 1, dtype: object\n",
            "student    Lily\n",
            "score        98\n",
            "Name: 2, dtype: object\n"
          ]
        }
      ]
    },
    {
      "cell_type": "code",
      "source": [
        "for (index, row) in student_data_frame.iterrows():\n",
        "  print(row.student)"
      ],
      "metadata": {
        "colab": {
          "base_uri": "https://localhost:8080/"
        },
        "id": "yDU47cbOqYlm",
        "outputId": "85597042-1a6f-4f48-fe68-68b6f7cac5ba"
      },
      "execution_count": 34,
      "outputs": [
        {
          "output_type": "stream",
          "name": "stdout",
          "text": [
            "Angela\n",
            "James\n",
            "Lily\n"
          ]
        }
      ]
    },
    {
      "cell_type": "code",
      "source": [
        "for (index, row) in student_data_frame.iterrows():\n",
        "  print(row.score)"
      ],
      "metadata": {
        "colab": {
          "base_uri": "https://localhost:8080/"
        },
        "id": "vId4nkPJqgnu",
        "outputId": "4823224f-7121-4bfb-b6ed-5465a93185ef"
      },
      "execution_count": 35,
      "outputs": [
        {
          "output_type": "stream",
          "name": "stdout",
          "text": [
            "56\n",
            "76\n",
            "98\n"
          ]
        }
      ]
    },
    {
      "cell_type": "code",
      "source": [
        "for (index, row) in student_data_frame.iterrows():\n",
        "  if row.student == \"Angela\":\n",
        "    print(row.score)"
      ],
      "metadata": {
        "colab": {
          "base_uri": "https://localhost:8080/"
        },
        "id": "hDZw_cO3qpEe",
        "outputId": "499883c3-7241-401f-eedb-f8788e034619"
      },
      "execution_count": 37,
      "outputs": [
        {
          "output_type": "stream",
          "name": "stdout",
          "text": [
            "56\n"
          ]
        }
      ]
    }
  ]
}